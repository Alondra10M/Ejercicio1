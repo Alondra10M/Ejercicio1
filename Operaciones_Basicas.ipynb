{
  "nbformat": 4,
  "nbformat_minor": 0,
  "metadata": {
    "colab": {
      "provenance": [],
      "authorship_tag": "ABX9TyPOwd4eNrdjdPYHlh/sLI6E",
      "include_colab_link": true
    },
    "kernelspec": {
      "name": "python3",
      "display_name": "Python 3"
    },
    "language_info": {
      "name": "python"
    }
  },
  "cells": [
    {
      "cell_type": "markdown",
      "metadata": {
        "id": "view-in-github",
        "colab_type": "text"
      },
      "source": [
        "<a href=\"https://colab.research.google.com/github/Alondra10M/Ejercicio1/blob/main/Operaciones_Basicas.ipynb\" target=\"_parent\"><img src=\"https://colab.research.google.com/assets/colab-badge.svg\" alt=\"Open In Colab\"/></a>"
      ]
    },
    {
      "cell_type": "code",
      "execution_count": null,
      "metadata": {
        "id": "axj0N9-kvYVz"
      },
      "outputs": [],
      "source": []
    },
    {
      "cell_type": "markdown",
      "source": [
        "#cargar pandas"
      ],
      "metadata": {
        "id": "YbO5szONvbmL"
      }
    },
    {
      "cell_type": "code",
      "source": [
        "import pandas as pd\n",
        "import numpy as np"
      ],
      "metadata": {
        "id": "LYOH616ZviRs"
      },
      "execution_count": 1,
      "outputs": []
    },
    {
      "cell_type": "code",
      "source": [
        "df = pd.DataFrame({\n",
        "    'Nombre': ['Ana', 'Juan', 'Maria', 'Carlos', 'Sofia'],\n",
        "    'Edad':[25,30,22,28,35],\n",
        "    'Ciudad': ['Madrid', 'Barcelona', 'Madrid', 'Valencia', 'Barcelona'],\n",
        "     'Puntuacion':[85,92,78,95,88],\n",
        "})\n",
        "print(\"DataFrame original\")\n",
        "print(df)"
      ],
      "metadata": {
        "colab": {
          "base_uri": "https://localhost:8080/"
        },
        "id": "sYdTf_Z1vlE4",
        "outputId": "206b0f86-3c8f-4ea9-8458-ef92096c21f6"
      },
      "execution_count": 2,
      "outputs": [
        {
          "output_type": "stream",
          "name": "stdout",
          "text": [
            "DataFrame original\n",
            "   Nombre  Edad     Ciudad  Puntuacion\n",
            "0     Ana    25     Madrid          85\n",
            "1    Juan    30  Barcelona          92\n",
            "2   Maria    22     Madrid          78\n",
            "3  Carlos    28   Valencia          95\n",
            "4   Sofia    35  Barcelona          88\n"
          ]
        }
      ]
    },
    {
      "cell_type": "markdown",
      "source": [
        "##Filtrado"
      ],
      "metadata": {
        "id": "0uYJPUrPwn4r"
      }
    },
    {
      "cell_type": "code",
      "source": [
        "mayores_25 = df[df[ 'Edad'] > 25]\n",
        "print(\"\\nPersonas mayores de 25 años:\")\n",
        "print(mayores_25)"
      ],
      "metadata": {
        "colab": {
          "base_uri": "https://localhost:8080/"
        },
        "id": "Im5RiVT6wqNu",
        "outputId": "d7f674b1-8de6-4615-d90a-2444bbb12db8"
      },
      "execution_count": 3,
      "outputs": [
        {
          "output_type": "stream",
          "name": "stdout",
          "text": [
            "\n",
            "Personas mayores de 25 años\n",
            "   Nombre  Edad     Ciudad  Puntuacion\n",
            "1    Juan    30  Barcelona          92\n",
            "3  Carlos    28   Valencia          95\n",
            "4   Sofia    35  Barcelona          88\n"
          ]
        }
      ]
    },
    {
      "cell_type": "markdown",
      "source": [
        "##Agrupacion y agregacion"
      ],
      "metadata": {
        "id": "et0RHFlIxFI3"
      }
    },
    {
      "cell_type": "code",
      "source": [
        "resultado = df[df['Edad']> 25].groupby('Ciudad')['Puntuacion'].max()\n",
        "print(\"\\nMaxima punruacion por ciudad para personas mayores de 25 años:\")\n",
        "print(resultado)"
      ],
      "metadata": {
        "colab": {
          "base_uri": "https://localhost:8080/"
        },
        "id": "1wye1V4ExIkc",
        "outputId": "9b2b7787-095e-4714-8bd8-1d804b87daf1"
      },
      "execution_count": 4,
      "outputs": [
        {
          "output_type": "stream",
          "name": "stdout",
          "text": [
            "\n",
            "Maxima punruacion por ciudad para personas mayores de 25 años:\n",
            "Ciudad\n",
            "Barcelona    92\n",
            "Valencia     95\n",
            "Name: Puntuacion, dtype: int64\n"
          ]
        }
      ]
    },
    {
      "cell_type": "code",
      "source": [],
      "metadata": {
        "id": "RJdZSWDKyX7g"
      },
      "execution_count": null,
      "outputs": []
    }
  ]
}