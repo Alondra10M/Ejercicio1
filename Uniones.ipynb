{
  "nbformat": 4,
  "nbformat_minor": 0,
  "metadata": {
    "colab": {
      "provenance": [],
      "authorship_tag": "ABX9TyO7cM6yI7C8G8XLy7CL3pSl",
      "include_colab_link": true
    },
    "kernelspec": {
      "name": "python3",
      "display_name": "Python 3"
    },
    "language_info": {
      "name": "python"
    }
  },
  "cells": [
    {
      "cell_type": "markdown",
      "metadata": {
        "id": "view-in-github",
        "colab_type": "text"
      },
      "source": [
        "<a href=\"https://colab.research.google.com/github/Alondra10M/Ejercicio1/blob/main/Uniones.ipynb\" target=\"_parent\"><img src=\"https://colab.research.google.com/assets/colab-badge.svg\" alt=\"Open In Colab\"/></a>"
      ]
    },
    {
      "cell_type": "code",
      "execution_count": null,
      "metadata": {
        "id": "ywea3Dkvw9Ar"
      },
      "outputs": [],
      "source": []
    },
    {
      "cell_type": "markdown",
      "source": [
        "##Tipo de Uniones\n",
        "\n",
        "1.Inner Join\n",
        "\n",
        "\n",
        "*   Une dos conjuntos de datos basandose en una condicion comun\n",
        "\n",
        "*   Solo incluye las filas que tiene concidencias en ambos conjuntos\n",
        "\n",
        "*   Elemento de lista\n",
        "\n",
        "\n"
      ],
      "metadata": {
        "id": "JHNRfE-exm-N"
      }
    },
    {
      "cell_type": "code",
      "source": [
        "import pandas as pd"
      ],
      "metadata": {
        "id": "pQ8DtpjZxqJZ"
      },
      "execution_count": 1,
      "outputs": []
    },
    {
      "cell_type": "markdown",
      "source": [
        "##Crear dos DataFrame"
      ],
      "metadata": {
        "id": "kHXrEBS8yHIs"
      }
    },
    {
      "cell_type": "code",
      "source": [
        "df1 = pd.DataFrame({\n",
        "    'ID': [1, 2, 3, 4],\n",
        "    'Nombre': ['Ana', 'Juan', 'Maria', 'Carlos'],\n",
        "    'Departamento': ['Ventas', 'IT', 'Marketing', 'RH']\n",
        "})\n",
        "df2 = pd.DataFrame({\n",
        "    'ID': [3,4,5,6],\n",
        "    'Salario': [50000, 60000, 55000, 65000]\n",
        "})\n",
        "print(\"DataFrame 1:\")\n",
        "print(df1)\n",
        "print(\"\\nDataFrame 2:\")\n",
        "print(df2)"
      ],
      "metadata": {
        "colab": {
          "base_uri": "https://localhost:8080/"
        },
        "id": "Lc9G0aufyLf1",
        "outputId": "2ee1c9d4-cfc9-4fa9-e67b-e8143f6081c4"
      },
      "execution_count": 3,
      "outputs": [
        {
          "output_type": "stream",
          "name": "stdout",
          "text": [
            "DataFrame 1:\n",
            "   ID  Nombre Departamento\n",
            "0   1     Ana       Ventas\n",
            "1   2    Juan           IT\n",
            "2   3   Maria    Marketing\n",
            "3   4  Carlos           RH\n",
            "DataFrame 2:\n",
            "   ID  Salario\n",
            "0   3    50000\n",
            "1   4    60000\n",
            "2   5    55000\n",
            "3   6    65000\n"
          ]
        }
      ]
    },
    {
      "cell_type": "markdown",
      "source": [
        "##Fusion inner"
      ],
      "metadata": {
        "id": "okS5CSSuzJeK"
      }
    },
    {
      "cell_type": "code",
      "source": [
        "inner_merge = pd.merge(df1, df2, on= 'ID', how= 'inner')\n",
        "print(\"\\nFusion inner:\")\n",
        "print(inner_merge)"
      ],
      "metadata": {
        "colab": {
          "base_uri": "https://localhost:8080/"
        },
        "id": "tDIlQD1AzZZi",
        "outputId": "e12bda75-1711-4317-b1a1-5f4ef3ad362b"
      },
      "execution_count": 5,
      "outputs": [
        {
          "output_type": "stream",
          "name": "stdout",
          "text": [
            "\n",
            "Fusion inner:\n",
            "   ID  Nombre Departamento  Salario\n",
            "0   3   Maria    Marketing    50000\n",
            "1   4  Carlos           RH    60000\n"
          ]
        }
      ]
    },
    {
      "cell_type": "markdown",
      "source": [
        "##Fusion outer"
      ],
      "metadata": {
        "id": "rJo_R6FMz4wS"
      }
    },
    {
      "cell_type": "code",
      "source": [
        "outer_merge = pd.merge(df1, df2, on= 'ID', how= 'outer')\n",
        "print(\"\\nFusion Outer:\")\n",
        "print(outer_merge)"
      ],
      "metadata": {
        "colab": {
          "base_uri": "https://localhost:8080/"
        },
        "id": "l01IZxz8z7VV",
        "outputId": "79814670-88d4-4c9b-86ef-bd3cfcb92359"
      },
      "execution_count": 7,
      "outputs": [
        {
          "output_type": "stream",
          "name": "stdout",
          "text": [
            "\n",
            "Fusion Outer:\n",
            "   ID  Nombre Departamento  Salario\n",
            "0   1     Ana       Ventas      NaN\n",
            "1   2    Juan           IT      NaN\n",
            "2   3   Maria    Marketing  50000.0\n",
            "3   4  Carlos           RH  60000.0\n",
            "4   5     NaN          NaN  55000.0\n",
            "5   6     NaN          NaN  65000.0\n"
          ]
        }
      ]
    },
    {
      "cell_type": "markdown",
      "source": [
        "##Fusion left"
      ],
      "metadata": {
        "id": "uG3aNgJV0m2m"
      }
    },
    {
      "cell_type": "code",
      "source": [
        "left_merge = pd.merge(df1, df2, on= 'ID', how= 'left')\n",
        "print(\"\\nFusion left:\")\n",
        "print(left_merge)"
      ],
      "metadata": {
        "colab": {
          "base_uri": "https://localhost:8080/"
        },
        "id": "_0p7wD1n04fD",
        "outputId": "9b45a14f-9e8d-449c-e4d4-148794475ffc"
      },
      "execution_count": 9,
      "outputs": [
        {
          "output_type": "stream",
          "name": "stdout",
          "text": [
            "\n",
            "Fusion left:\n",
            "   ID  Nombre Departamento  Salario\n",
            "0   1     Ana       Ventas      NaN\n",
            "1   2    Juan           IT      NaN\n",
            "2   3   Maria    Marketing  50000.0\n",
            "3   4  Carlos           RH  60000.0\n"
          ]
        }
      ]
    },
    {
      "cell_type": "markdown",
      "source": [
        "##Fusion Right"
      ],
      "metadata": {
        "id": "A07PGUX_1HF3"
      }
    },
    {
      "cell_type": "code",
      "source": [
        "right_merge = pd.merge(df1, df2, on= 'ID', how= 'right')\n",
        "print(\"\\nFusion right:\")\n",
        "print(right_merge)"
      ],
      "metadata": {
        "colab": {
          "base_uri": "https://localhost:8080/"
        },
        "id": "pXA1pH591MFg",
        "outputId": "ccee3f10-406d-4297-f11c-447da4885b52"
      },
      "execution_count": 10,
      "outputs": [
        {
          "output_type": "stream",
          "name": "stdout",
          "text": [
            "\n",
            "Fusion right:\n",
            "   ID  Nombre Departamento  Salario\n",
            "0   3   Maria    Marketing    50000\n",
            "1   4  Carlos           RH    60000\n",
            "2   5     NaN          NaN    55000\n",
            "3   6     NaN          NaN    65000\n"
          ]
        }
      ]
    },
    {
      "cell_type": "markdown",
      "source": [
        "##Concatenacion"
      ],
      "metadata": {
        "id": "CXpwkuvd1f9z"
      }
    },
    {
      "cell_type": "code",
      "source": [
        "#concatenacion\n",
        "df3 = pd.DataFrame({\n",
        "    'ID': [7, 8],\n",
        "    'Nombre': ['Sofia', 'Pedro'],\n",
        "    'Departamento': ['Finanzas','Ventas']\n",
        "})\n",
        "concatenated1= pd.concat([df1,df3])\n",
        "print(\"\\nConcatenacion de DtaFrames:\")\n",
        "print(concatenated1)\n"
      ],
      "metadata": {
        "colab": {
          "base_uri": "https://localhost:8080/"
        },
        "id": "mGotlDQj1mq1",
        "outputId": "ca58db7a-3a7f-45dd-eccc-7b36a2c2eec3"
      },
      "execution_count": 12,
      "outputs": [
        {
          "output_type": "stream",
          "name": "stdout",
          "text": [
            "\n",
            "Concatenacion de DtaFrames:\n",
            "   ID  Nombre Departamento\n",
            "0   1     Ana       Ventas\n",
            "1   2    Juan           IT\n",
            "2   3   Maria    Marketing\n",
            "3   4  Carlos           RH\n",
            "0   7   Sofia     Finanzas\n",
            "1   8   Pedro       Ventas\n"
          ]
        }
      ]
    },
    {
      "cell_type": "markdown",
      "source": [],
      "metadata": {
        "id": "ev1o11FE2a5a"
      }
    }
  ]
}