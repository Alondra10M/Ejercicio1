{
  "nbformat": 4,
  "nbformat_minor": 0,
  "metadata": {
    "colab": {
      "provenance": [],
      "authorship_tag": "ABX9TyOGU3FC5As4Xw8srrDjIUdF",
      "include_colab_link": true
    },
    "kernelspec": {
      "name": "python3",
      "display_name": "Python 3"
    },
    "language_info": {
      "name": "python"
    }
  },
  "cells": [
    {
      "cell_type": "markdown",
      "metadata": {
        "id": "view-in-github",
        "colab_type": "text"
      },
      "source": [
        "<a href=\"https://colab.research.google.com/github/Alondra10M/Ejercicio1/blob/main/Limpiar_Datos.ipynb\" target=\"_parent\"><img src=\"https://colab.research.google.com/assets/colab-badge.svg\" alt=\"Open In Colab\"/></a>"
      ]
    },
    {
      "cell_type": "code",
      "execution_count": null,
      "metadata": {
        "id": "tZG-dYH3oBto"
      },
      "outputs": [],
      "source": []
    },
    {
      "cell_type": "markdown",
      "source": [
        "##NumPy:Libreria afundamental para la computacion cientififca en Python\n",
        "\n",
        "NumPy es una libreria fundamental para la computacinn cientifica en Python.Es la base de muchas otras librerias"
      ],
      "metadata": {
        "id": "Tw3PAquKoO2g"
      }
    },
    {
      "cell_type": "code",
      "source": [
        "import pandas as pd\n",
        "import numpy as np"
      ],
      "metadata": {
        "id": "Z3va_4R5os-q"
      },
      "execution_count": 1,
      "outputs": []
    },
    {
      "cell_type": "markdown",
      "source": [
        "##Crear un DataFrame con datos sucios"
      ],
      "metadata": {
        "id": "Qj8W2oJYo0un"
      }
    },
    {
      "cell_type": "code",
      "source": [
        "df = pd.DataFrame({\n",
        "    'A':[1,2, np.nan, 4, 5],\n",
        "    'B':[5,6, 7, np.nan, 9],\n",
        "    'C':['a', 'b', 'c', 'd', 'e'],\n",
        "    'D':['foo', 'bar', 'foo', 'bar', 'foo']\n",
        "})\n",
        "print(\"DataFrame original:\")\n",
        "print(df)"
      ],
      "metadata": {
        "colab": {
          "base_uri": "https://localhost:8080/"
        },
        "id": "BzdZXJm9o7dk",
        "outputId": "ffcd54db-fd69-4e41-a9a9-79d0cbd2e9d0"
      },
      "execution_count": 2,
      "outputs": [
        {
          "output_type": "stream",
          "name": "stdout",
          "text": [
            "DataFrame original:\n",
            "     A    B  C    D\n",
            "0  1.0  5.0  a  foo\n",
            "1  2.0  6.0  b  bar\n",
            "2  NaN  7.0  c  foo\n",
            "3  4.0  NaN  d  bar\n",
            "4  5.0  9.0  e  foo\n"
          ]
        }
      ]
    },
    {
      "cell_type": "markdown",
      "source": [
        "##Eliminar filas con valores nulos"
      ],
      "metadata": {
        "id": "kIedLqD-qMGC"
      }
    },
    {
      "cell_type": "code",
      "source": [
        "df_clean = df.dropna()\n",
        "print(\"\\nDataFraem sin filas nulas:\")\n",
        "print(df_clean)\n"
      ],
      "metadata": {
        "colab": {
          "base_uri": "https://localhost:8080/"
        },
        "id": "K4iI5xu3qQnf",
        "outputId": "6fbf1368-9c1c-4c3f-8f4b-19e1e29d0622"
      },
      "execution_count": 3,
      "outputs": [
        {
          "output_type": "stream",
          "name": "stdout",
          "text": [
            "\n",
            "DataFraem sin filas nulas:\n",
            "     A    B  C    D\n",
            "0  1.0  5.0  a  foo\n",
            "1  2.0  6.0  b  bar\n",
            "4  5.0  9.0  e  foo\n"
          ]
        }
      ]
    },
    {
      "cell_type": "markdown",
      "source": [
        "##Rellenar valores nulos"
      ],
      "metadata": {
        "id": "mkTykOQEqnFJ"
      }
    },
    {
      "cell_type": "code",
      "source": [
        "df_filled = df.fillna(value={'A': df['A'].mean(), 'B': df['B'].median()})\n",
        "print(\"\\nDataFrame con valores nulos rellenados:\")\n",
        "print(df_filled)\n"
      ],
      "metadata": {
        "colab": {
          "base_uri": "https://localhost:8080/"
        },
        "id": "Apdkhf0Kqp8j",
        "outputId": "685f6333-f30a-4676-8391-d3f6771ec2cc"
      },
      "execution_count": 5,
      "outputs": [
        {
          "output_type": "stream",
          "name": "stdout",
          "text": [
            "\n",
            "DataFrame con valores nulos rellenados:\n",
            "     A    B  C    D\n",
            "0  1.0  5.0  a  foo\n",
            "1  2.0  6.0  b  bar\n",
            "2  3.0  7.0  c  foo\n",
            "3  4.0  6.5  d  bar\n",
            "4  5.0  9.0  e  foo\n"
          ]
        }
      ]
    },
    {
      "cell_type": "markdown",
      "source": [
        "##Eliminar Duplicados"
      ],
      "metadata": {
        "id": "WpneKOi1sTqS"
      }
    },
    {
      "cell_type": "code",
      "source": [
        "df_no_duplicates = df.drop_duplicates(subset=['D'])\n",
        "print(\"\\nDataFrame sin datos duplicados en la columna D:\")\n",
        "print(df_no_duplicates)"
      ],
      "metadata": {
        "colab": {
          "base_uri": "https://localhost:8080/"
        },
        "id": "7A5EokrcsWF3",
        "outputId": "4519f4cf-2cd9-42ae-ef1b-7ad9b07fa7bb"
      },
      "execution_count": 6,
      "outputs": [
        {
          "output_type": "stream",
          "name": "stdout",
          "text": [
            "\n",
            "DataFrame sin datos duplicados en la columna D:\n",
            "     A    B  C    D\n",
            "0  1.0  5.0  a  foo\n",
            "1  2.0  6.0  b  bar\n"
          ]
        }
      ]
    },
    {
      "cell_type": "markdown",
      "source": [
        "##Renombrar columnas"
      ],
      "metadata": {
        "id": "EWaWFtcUulLe"
      }
    },
    {
      "cell_type": "code",
      "source": [
        "df_renamed = df.rename(columns={'A': 'Alpha', 'B': 'Beta',\n",
        "                                'C': 'Charlie', 'D': 'Delta'})\n",
        "print(\"\\nDataFrame columnas renombradas:\")\n",
        "print(df_renamed)"
      ],
      "metadata": {
        "colab": {
          "base_uri": "https://localhost:8080/"
        },
        "id": "PPgaOggIuoGm",
        "outputId": "db2864a2-0811-4a79-c6bd-f855d233b36b"
      },
      "execution_count": 7,
      "outputs": [
        {
          "output_type": "stream",
          "name": "stdout",
          "text": [
            "\n",
            "DataFrame columnas renombradas:\n",
            "   Alpha  Beta Charlie Delta\n",
            "0    1.0   5.0       a   foo\n",
            "1    2.0   6.0       b   bar\n",
            "2    NaN   7.0       c   foo\n",
            "3    4.0   NaN       d   bar\n",
            "4    5.0   9.0       e   foo\n"
          ]
        }
      ]
    }
  ]
}