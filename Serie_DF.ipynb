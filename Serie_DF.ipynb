{
  "nbformat": 4,
  "nbformat_minor": 0,
  "metadata": {
    "colab": {
      "provenance": [],
      "authorship_tag": "ABX9TyNFsu3Osmnup1os3ipcPoPJ",
      "include_colab_link": true
    },
    "kernelspec": {
      "name": "python3",
      "display_name": "Python 3"
    },
    "language_info": {
      "name": "python"
    }
  },
  "cells": [
    {
      "cell_type": "markdown",
      "metadata": {
        "id": "view-in-github",
        "colab_type": "text"
      },
      "source": [
        "<a href=\"https://colab.research.google.com/github/Alondra10M/Ejercicio1/blob/main/Serie_DF.ipynb\" target=\"_parent\"><img src=\"https://colab.research.google.com/assets/colab-badge.svg\" alt=\"Open In Colab\"/></a>"
      ]
    },
    {
      "cell_type": "code",
      "execution_count": null,
      "metadata": {
        "id": "P01paIJBLQMo"
      },
      "outputs": [],
      "source": []
    },
    {
      "cell_type": "markdown",
      "source": [
        "EJERCICIO 1\n",
        "\n",
        "Teoria\n",
        "explicacion de series y Data Frames Diferencias y usos de cada estructura\n",
        "\n",
        "Incluimos las librerias que necesitamos"
      ],
      "metadata": {
        "id": "Ip9tSMqGRuBz"
      }
    },
    {
      "cell_type": "code",
      "source": [
        "import pandas as pd\n",
        "import numpy as np"
      ],
      "metadata": {
        "id": "17p9J4k-R-RG"
      },
      "execution_count": 2,
      "outputs": []
    },
    {
      "cell_type": "markdown",
      "source": [
        "#**Crear una serie\n"
      ],
      "metadata": {
        "id": "CjoxtLE5SNQt"
      }
    },
    {
      "cell_type": "code",
      "source": [
        "s = pd.Series([1, 3, 5, np.nan, 6, 8])\n",
        "print(\"Serie:\")\n",
        "print(s)"
      ],
      "metadata": {
        "colab": {
          "base_uri": "https://localhost:8080/"
        },
        "id": "25Ei4x7_TbJj",
        "outputId": "f22dacba-07b4-4661-ef22-ea4a5aeea9c5"
      },
      "execution_count": 3,
      "outputs": [
        {
          "output_type": "stream",
          "name": "stdout",
          "text": [
            "Serie:\n",
            "0    1.0\n",
            "1    3.0\n",
            "2    5.0\n",
            "3    NaN\n",
            "4    6.0\n",
            "5    8.0\n",
            "dtype: float64\n"
          ]
        }
      ]
    },
    {
      "cell_type": "markdown",
      "source": [
        "#**Crear un DataFrame"
      ],
      "metadata": {
        "id": "fwtmPNtUT4I1"
      }
    },
    {
      "cell_type": "code",
      "source": [
        "df = pd.DataFrame({\n",
        "    'A': [1, 2, 3, 4,],\n",
        "    'B': pd.Timestamp('20230101'),\n",
        "    'C': pd.Series(1, index=list(range(4)), dtype='float32'),\n",
        "    'D': np.array([30] * 4, dtype='int32'),\n",
        "    'E': pd.Categorical([\"test\", \"train\", \"test\", \"train\"]),\n",
        "    'F':'foo'\n",
        "})\n",
        "print(\"\\nDataFrame:\")\n",
        "print(df)"
      ],
      "metadata": {
        "colab": {
          "base_uri": "https://localhost:8080/"
        },
        "id": "1QXiiHCGT8qz",
        "outputId": "66858c7d-ca2a-404b-bb67-9776382a9d76"
      },
      "execution_count": 4,
      "outputs": [
        {
          "output_type": "stream",
          "name": "stdout",
          "text": [
            "\n",
            "DataFrame:\n",
            "   A          B    C   D      E    F\n",
            "0  1 2023-01-01  1.0  30   test  foo\n",
            "1  2 2023-01-01  1.0  30  train  foo\n",
            "2  3 2023-01-01  1.0  30   test  foo\n",
            "3  4 2023-01-01  1.0  30  train  foo\n"
          ]
        }
      ]
    },
    {
      "cell_type": "markdown",
      "source": [],
      "metadata": {
        "id": "3HA3rSUVVzoV"
      }
    },
    {
      "cell_type": "markdown",
      "source": [
        "#Explorar el Data Frame"
      ],
      "metadata": {
        "id": "IThjMeZrVzqw"
      }
    },
    {
      "cell_type": "code",
      "source": [
        "print(\"\\nTipos de Datos:\")\n",
        "print(df.dtypes)\n",
        "print(\"\\nPrimeras 2 filas:\")\n",
        "print(df.head(2))\n",
        "print(\"\\nUltimass 2 filas:\")\n",
        "print(df.tail(2))"
      ],
      "metadata": {
        "colab": {
          "base_uri": "https://localhost:8080/"
        },
        "id": "ePKPiNYuV3Mv",
        "outputId": "2350b8a8-c955-4537-e27d-18cca203c2dc"
      },
      "execution_count": 5,
      "outputs": [
        {
          "output_type": "stream",
          "name": "stdout",
          "text": [
            "\n",
            "Tipos de Datos:\n",
            "A            int64\n",
            "B    datetime64[s]\n",
            "C          float32\n",
            "D            int32\n",
            "E         category\n",
            "F           object\n",
            "dtype: object\n",
            "\n",
            "Primeras 2 filas:\n",
            "   A          B    C   D      E    F\n",
            "0  1 2023-01-01  1.0  30   test  foo\n",
            "1  2 2023-01-01  1.0  30  train  foo\n",
            "\n",
            "Ultimass 2 filas:\n",
            "   A          B    C   D      E    F\n",
            "2  3 2023-01-01  1.0  30   test  foo\n",
            "3  4 2023-01-01  1.0  30  train  foo\n"
          ]
        }
      ]
    }
  ]
}